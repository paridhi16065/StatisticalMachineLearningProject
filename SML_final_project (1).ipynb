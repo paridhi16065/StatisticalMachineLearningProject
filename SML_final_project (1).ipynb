{
  "nbformat": 4,
  "nbformat_minor": 0,
  "metadata": {
    "colab": {
      "provenance": []
    },
    "kernelspec": {
      "name": "python3",
      "display_name": "Python 3"
    },
    "language_info": {
      "name": "python"
    }
  },
  "cells": [
    {
      "cell_type": "code",
      "execution_count": null,
      "metadata": {
        "id": "n9EV1Vynq_of"
      },
      "outputs": [],
      "source": [
        "import numpy as np\n",
        "import pandas\n",
        "\n",
        "from sklearn.linear_model import LinearRegression\n",
        "from sklearn.model_selection import train_test_split\n",
        "from sklearn.metrics import mean_squared_error\n",
        "from sklearn.neural_network import MLPRegressor\n",
        "\n",
        "csvFile = pandas.read_csv(\"yXtrain.csv\")"
      ]
    },
    {
      "cell_type": "markdown",
      "source": [
        "Splitting the dataset between training and testing"
      ],
      "metadata": {
        "id": "agEYa76rgxJ9"
      }
    },
    {
      "cell_type": "code",
      "source": [
        "cols = csvFile.columns\n",
        "##TestTrainSplit##\n",
        "\n",
        "Y = csvFile[[cols[1]]] #this is the column containing Y\n",
        "X = csvFile[cols[2:]] #this is the column containing the features/independent variables\n",
        "\n",
        "x_train,x_test,y_train,y_test = train_test_split(X,Y,test_size =0.2) #20% of rows are randomly allotted to the test set\n"
      ],
      "metadata": {
        "id": "fK5g0ffJfNQE"
      },
      "execution_count": null,
      "outputs": []
    },
    {
      "cell_type": "code",
      "source": [
        "class MultivariateLinearRegression:\n",
        "    def __init__(self):\n",
        "        self.coefficients_ = None\n",
        "        self.intercept_ = None\n",
        "\n",
        "    def fit(self, X, y):\n",
        "        if isinstance(X, np.ndarray):\n",
        "            ones_column = np.ones((X.shape[0], 1))\n",
        "            X = np.concatenate((ones_column, X), axis=1) #this is to calculate the offset term\n",
        "        elif 'pandas' in str(type(X)):\n",
        "            ones_column = np.ones((X.shape[0], 1))\n",
        "            X = np.concatenate((ones_column, X.values), axis=1)\n",
        "\n",
        "        coefficients = np.linalg.inv(X.T @ X) @ X.T @ y\n",
        "\n",
        "        self.intercept_ = coefficients[0]\n",
        "        self.coefficients_ = coefficients[1:]\n",
        "\n",
        "    def predict(self, X):\n",
        "        if isinstance(X, np.ndarray):\n",
        "            ones_column = np.ones((X.shape[0], 1))\n",
        "            X = np.concatenate((ones_column, X), axis=1)\n",
        "        elif 'pandas' in str(type(X)):\n",
        "            ones_column = np.ones((X.shape[0], 1))\n",
        "            X = np.concatenate((ones_column, X.values), axis=1)\n",
        "\n",
        "        return X @ np.concatenate(([self.intercept_], self.coefficients_))"
      ],
      "metadata": {
        "id": "YI7ZkW5bgFn3"
      },
      "execution_count": null,
      "outputs": []
    },
    {
      "cell_type": "code",
      "source": [
        "def r_squared(y_true, y_pred): #measure of fit\n",
        "    mean_y_true = np.mean(y_true)\n",
        "    numerator = np.sum((y_true - y_pred)**2)\n",
        "    denominator = np.sum((y_true - mean_y_true)**2)\n",
        "\n",
        "    r_squared = 1 - (numerator / denominator) #maximum value 1\n",
        "    return(r_squared.mean())"
      ],
      "metadata": {
        "id": "c3ArfVHGBnrr"
      },
      "execution_count": null,
      "outputs": []
    },
    {
      "cell_type": "markdown",
      "source": [
        "Linear Regression"
      ],
      "metadata": {
        "id": "zMLlLr0Ig33r"
      }
    },
    {
      "cell_type": "code",
      "source": [
        "linear_model = MultivariateLinearRegression()\n",
        "x_train_numpy = x_train.to_numpy()\n",
        "y_train_numpy = y_train.to_numpy()\n",
        "x_test_numpy = x_test.to_numpy()\n",
        "y_test_numpy = y_test.to_numpy()\n",
        "\n",
        "linear_model.fit(x_train_numpy,y_train_numpy)\n",
        "\n",
        "linear_predictions_train = linear_model.predict(x_train_numpy)\n",
        "linear_predictions = linear_model.predict(x_test_numpy)\n",
        "\n",
        "print(\"Linear Model Coefficients:\", linear_model.coefficients_)\n",
        "print(\"Linear Model Intercept:\", linear_model.intercept_)\n",
        "print()\n",
        "\n",
        "linear_mse_train = mean_squared_error(y_train, linear_predictions_train)\n",
        "linear_mse_test = mean_squared_error(y_test, linear_predictions)\n",
        "r_squared_train_linear = r_squared(y_train,linear_predictions_train)\n",
        "r_squared_test_linear = r_squared(y_test,linear_predictions)\n",
        "\n",
        "print(\"Linear Model MSE on Train:\", linear_mse_train)\n",
        "print()\n",
        "print(\"Linear Model MSE on Test:\", linear_mse_test)\n",
        "print()\n",
        "\n",
        "print(\"R-squared Train:\", r_squared_train_linear)\n",
        "print()\n",
        "print(\"R-squared Test:\", r_squared_test_linear)\n"
      ],
      "metadata": {
        "colab": {
          "base_uri": "https://localhost:8080/"
        },
        "id": "mM1gWNAD-sOl",
        "outputId": "7bcccc7e-7c26-43f6-822d-60d44e70e2a5"
      },
      "execution_count": null,
      "outputs": [
        {
          "output_type": "stream",
          "name": "stdout",
          "text": [
            "Linear Model Coefficients: [[-4.6457914 ]\n",
            " [ 4.02557381]\n",
            " [-4.45134025]\n",
            " [ 3.3631663 ]\n",
            " [-3.11630155]\n",
            " [ 0.0967903 ]\n",
            " [ 0.35084454]\n",
            " [-0.12157242]\n",
            " [-0.13616384]\n",
            " [ 0.14673449]\n",
            " [-0.49449494]\n",
            " [-0.0600881 ]\n",
            " [-0.10247744]\n",
            " [-0.09012757]\n",
            " [-0.21263939]\n",
            " [-0.14487725]\n",
            " [ 0.07288057]\n",
            " [-0.66575683]\n",
            " [ 0.08027456]\n",
            " [ 0.23786215]\n",
            " [-0.12434683]\n",
            " [-0.30499237]\n",
            " [-0.17998388]\n",
            " [ 0.29862887]\n",
            " [ 0.23622418]\n",
            " [ 0.25062337]\n",
            " [-0.0945364 ]\n",
            " [-0.04566266]\n",
            " [ 0.49902615]\n",
            " [ 0.25925175]\n",
            " [-0.27484833]\n",
            " [ 0.16065513]\n",
            " [-0.1897264 ]\n",
            " [-0.38167014]\n",
            " [-0.0056318 ]\n",
            " [-0.03037552]\n",
            " [ 0.4490397 ]\n",
            " [-0.09385274]\n",
            " [-0.34178469]\n",
            " [ 0.64411062]\n",
            " [-0.05915726]\n",
            " [ 0.14205975]\n",
            " [-0.24440731]\n",
            " [-0.33981033]\n",
            " [ 0.26646776]\n",
            " [-0.14566749]\n",
            " [ 0.27723428]\n",
            " [ 0.25889344]\n",
            " [ 0.57058779]\n",
            " [-0.19904322]]\n",
            "Linear Model Intercept: [13.0166818]\n",
            "\n",
            "Linear Model MSE on Train: 90.40131136325596\n",
            "\n",
            "Linear Model MSE on Test: 99.87799340585703\n",
            "\n",
            "R-squared Train: 0.45866786892276656\n",
            "\n",
            "R-squared Test: 0.40048714864123436\n"
          ]
        },
        {
          "output_type": "stream",
          "name": "stderr",
          "text": [
            "/usr/local/lib/python3.10/dist-packages/numpy/core/fromnumeric.py:3430: FutureWarning: In a future version, DataFrame.mean(axis=None) will return a scalar mean over the entire DataFrame. To retain the old behavior, use 'frame.mean(axis=0)' or just 'frame.mean()'\n",
            "  return mean(axis=axis, dtype=dtype, out=out, **kwargs)\n",
            "/usr/local/lib/python3.10/dist-packages/numpy/core/fromnumeric.py:3430: FutureWarning: In a future version, DataFrame.mean(axis=None) will return a scalar mean over the entire DataFrame. To retain the old behavior, use 'frame.mean(axis=0)' or just 'frame.mean()'\n",
            "  return mean(axis=axis, dtype=dtype, out=out, **kwargs)\n"
          ]
        }
      ]
    },
    {
      "cell_type": "markdown",
      "source": [
        "Calculating residuals"
      ],
      "metadata": {
        "id": "UY88sCtkg7Dr"
      }
    },
    {
      "cell_type": "code",
      "source": [
        "residuals = y_train - linear_model.predict(x_train)\n",
        "#print(y_train.shape)\n",
        "#print(linear_model.predict(x_train).shape)\n",
        "#print(residuals.shape)\n",
        "#print()"
      ],
      "metadata": {
        "id": "VC71GP0tJjk6"
      },
      "execution_count": null,
      "outputs": []
    },
    {
      "cell_type": "markdown",
      "source": [
        "Neural Network fitting on the residuals"
      ],
      "metadata": {
        "id": "hb02qVDdi-tW"
      }
    },
    {
      "cell_type": "code",
      "source": [
        "nn_model = MLPRegressor(hidden_layer_sizes=(5,), max_iter=5000, random_state=42)\n",
        "nn_model.fit(x_train, residuals.values.ravel())\n",
        "\n",
        "nn_predictions_train1 = linear_model.predict(x_train) + nn_model.predict(x_train).reshape(-1, 1)\n",
        "nn_predictions1 = linear_model.predict(x_test) + nn_model.predict(x_test).reshape(-1, 1)\n",
        "\n",
        "nn_mse_train = mean_squared_error(y_train, nn_predictions_train1)\n",
        "nn_mse = mean_squared_error(y_test, nn_predictions1)\n",
        "r_squared_train_nn1 = r_squared(y_train,nn_predictions_train1)\n",
        "r_squared_test_nn1 = r_squared(y_test,nn_predictions1)\n",
        "\n",
        "print(\"Neural Network MSE on Train:\", nn_mse_train)\n",
        "print()\n",
        "print(\"Neural Network MSE on Test:\", nn_mse)\n",
        "print()\n",
        "print(\"R-squared Train:\", r_squared_train_nn1)\n",
        "print()\n",
        "print(\"R-squared Test:\", r_squared_test_nn1)"
      ],
      "metadata": {
        "colab": {
          "base_uri": "https://localhost:8080/"
        },
        "id": "54s7-ABecC_f",
        "outputId": "0729f25e-9375-4041-cb56-00bec5319286"
      },
      "execution_count": null,
      "outputs": [
        {
          "output_type": "stream",
          "name": "stdout",
          "text": [
            "Neural Network MSE on Train: 1.2152512301219978\n",
            "\n",
            "Neural Network MSE on Test: 1.7307291904947244\n",
            "\n",
            "R-squared Train: 0.9927229535913175\n",
            "\n",
            "R-squared Test: 0.9896113812808889\n"
          ]
        },
        {
          "output_type": "stream",
          "name": "stderr",
          "text": [
            "/usr/local/lib/python3.10/dist-packages/numpy/core/fromnumeric.py:3430: FutureWarning: In a future version, DataFrame.mean(axis=None) will return a scalar mean over the entire DataFrame. To retain the old behavior, use 'frame.mean(axis=0)' or just 'frame.mean()'\n",
            "  return mean(axis=axis, dtype=dtype, out=out, **kwargs)\n",
            "/usr/local/lib/python3.10/dist-packages/numpy/core/fromnumeric.py:3430: FutureWarning: In a future version, DataFrame.mean(axis=None) will return a scalar mean over the entire DataFrame. To retain the old behavior, use 'frame.mean(axis=0)' or just 'frame.mean()'\n",
            "  return mean(axis=axis, dtype=dtype, out=out, **kwargs)\n"
          ]
        }
      ]
    },
    {
      "cell_type": "code",
      "source": [
        "import matplotlib.pyplot as plt\n",
        "from sklearn.model_selection import validation_curve\n",
        "from sklearn.linear_model import Ridge\n",
        "import math\n",
        "\n",
        "alphas = [0, 0.01, 0.1, 1, 10, 100, 1000]\n",
        "\n",
        "ridge_model = Ridge()\n",
        "train_scores, valid_scores = validation_curve(ridge_model, x_train, y_train, param_name='alpha', param_range=alphas, cv=5)\n",
        "\n",
        "plt.plot(alphas, np.mean(valid_scores, axis=1), marker='o')\n",
        "plt.xlabel('Alpha')\n",
        "plt.ylabel('Mean Validation Score')\n",
        "plt.title('Ridge Regression Validation Curve')\n",
        "plt.show()\n",
        "\n",
        "best_alpha = alphas[np.argmax(np.mean(valid_scores, axis=1))]\n",
        "\n",
        "print(best_alpha)\n",
        "\n"
      ],
      "metadata": {
        "colab": {
          "base_uri": "https://localhost:8080/",
          "height": 489
        },
        "id": "94oVze4tkVXM",
        "outputId": "77386020-88af-4cbb-e58c-38aa2b3102a8"
      },
      "execution_count": null,
      "outputs": [
        {
          "output_type": "display_data",
          "data": {
            "text/plain": [
              "<Figure size 640x480 with 1 Axes>"
            ],
            "image/png": "[encoded data removed]"
          },
          "metadata": {}
        },
        {
          "output_type": "stream",
          "name": "stdout",
          "text": [
            "100\n"
          ]
        }
      ]
    },
    {
      "cell_type": "markdown",
      "source": [
        "Using Ridge regression"
      ],
      "metadata": {
        "id": "_JfvPvcw5tWn"
      }
    },
    {
      "cell_type": "code",
      "source": [
        "ridge_model = Ridge(best_alpha)\n",
        "ridge_model.fit(x_train, y_train)\n",
        "ridge_predictions = ridge_model.predict(x_test)\n",
        "ridge_predictions_train = ridge_model.predict(x_train)\n",
        "\n",
        "mse = mean_squared_error(y_test, ridge_predictions)\n",
        "print(mse)\n",
        "\n",
        "r_squared_train_ridge = r_squared(y_pred = ridge_predictions_train, y_true = y_train)\n",
        "r_squared_test_ridge = r_squared(y_pred = ridge_predictions, y_true = y_test)"
      ],
      "metadata": {
        "colab": {
          "base_uri": "https://localhost:8080/"
        },
        "id": "PTHXbbpveYzM",
        "outputId": "b788f84c-2f95-4905-9e03-cc5f60cf2023"
      },
      "execution_count": null,
      "outputs": [
        {
          "output_type": "stream",
          "name": "stdout",
          "text": [
            "99.17356122975467\n"
          ]
        },
        {
          "output_type": "stream",
          "name": "stderr",
          "text": [
            "/usr/local/lib/python3.10/dist-packages/numpy/core/fromnumeric.py:3430: FutureWarning: In a future version, DataFrame.mean(axis=None) will return a scalar mean over the entire DataFrame. To retain the old behavior, use 'frame.mean(axis=0)' or just 'frame.mean()'\n",
            "  return mean(axis=axis, dtype=dtype, out=out, **kwargs)\n",
            "/usr/local/lib/python3.10/dist-packages/numpy/core/fromnumeric.py:3430: FutureWarning: In a future version, DataFrame.mean(axis=None) will return a scalar mean over the entire DataFrame. To retain the old behavior, use 'frame.mean(axis=0)' or just 'frame.mean()'\n",
            "  return mean(axis=axis, dtype=dtype, out=out, **kwargs)\n"
          ]
        }
      ]
    },
    {
      "cell_type": "code",
      "source": [
        "residuals = y_train - ridge_model.predict(x_train)"
      ],
      "metadata": {
        "id": "xgH13IR1n28Z"
      },
      "execution_count": null,
      "outputs": []
    },
    {
      "cell_type": "code",
      "source": [
        "nn_model = MLPRegressor(hidden_layer_sizes=(5,), max_iter=5000, random_state=42)\n",
        "nn_model.fit(x_train, residuals.values.ravel())\n",
        "\n",
        "nn_predictions_train2 = ridge_model.predict(x_train) + nn_model.predict(x_train).reshape(-1, 1)\n",
        "nn_predictions2 = ridge_model.predict(x_test) + nn_model.predict(x_test).reshape(-1, 1)\n",
        "\n",
        "nn_mse_train = mean_squared_error(y_train, nn_predictions_train2)\n",
        "nn_mse = mean_squared_error(y_test, nn_predictions2)\n",
        "r_squared_train_nn2 = r_squared(y_train,nn_predictions_train2)\n",
        "r_squared_test_nn2 = r_squared(y_test,nn_predictions2)\n",
        "\n",
        "print(\"Neural Network MSE on Train:\", nn_mse_train)\n",
        "print()\n",
        "print(\"Neural Network MSE on Test:\", nn_mse)\n",
        "print()\n",
        "print(\"R-squared Train:\", r_squared_train_nn2)\n",
        "print()\n",
        "print(\"R-squared Test:\", r_squared_test_nn2)"
      ],
      "metadata": {
        "colab": {
          "base_uri": "https://localhost:8080/"
        },
        "id": "nscf5yJTnQce",
        "outputId": "66bb16d9-b469-49ee-bcc9-63c91f046139"
      },
      "execution_count": null,
      "outputs": [
        {
          "output_type": "stream",
          "name": "stdout",
          "text": [
            "Neural Network MSE on Train: 0.9021060603516028\n",
            "\n",
            "Neural Network MSE on Test: 1.4477251188772522\n",
            "\n",
            "R-squared Train: 0.9945980983157916\n",
            "\n",
            "R-squared Test: 0.9913100996084798\n"
          ]
        },
        {
          "output_type": "stream",
          "name": "stderr",
          "text": [
            "/usr/local/lib/python3.10/dist-packages/numpy/core/fromnumeric.py:3430: FutureWarning: In a future version, DataFrame.mean(axis=None) will return a scalar mean over the entire DataFrame. To retain the old behavior, use 'frame.mean(axis=0)' or just 'frame.mean()'\n",
            "  return mean(axis=axis, dtype=dtype, out=out, **kwargs)\n",
            "/usr/local/lib/python3.10/dist-packages/numpy/core/fromnumeric.py:3430: FutureWarning: In a future version, DataFrame.mean(axis=None) will return a scalar mean over the entire DataFrame. To retain the old behavior, use 'frame.mean(axis=0)' or just 'frame.mean()'\n",
            "  return mean(axis=axis, dtype=dtype, out=out, **kwargs)\n"
          ]
        }
      ]
    }
  ]
}